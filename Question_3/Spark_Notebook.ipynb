{
 "cells": [
  {
   "cell_type": "markdown",
   "id": "a8e9e87b-97f2-45cc-a1db-5fcc9ad6c1dc",
   "metadata": {
    "microsoft": {
     "language": "python",
     "language_group": "synapse_pyspark"
    },
    "nteract": {
     "transient": {
      "deleting": false
     }
    }
   },
   "source": [
    "### Import Relevant Libraries and start Spark Session"
   ]
  },
  {
   "cell_type": "code",
   "execution_count": 12,
   "id": "8ae1cbbb-c8ff-4c12-884b-a6f50ed1cf7d",
   "metadata": {
    "jupyter": {
     "outputs_hidden": false,
     "source_hidden": false
    },
    "microsoft": {
     "language": "python",
     "language_group": "synapse_pyspark"
    },
    "nteract": {
     "transient": {
      "deleting": false
     }
    }
   },
   "outputs": [
    {
     "data": {
      "application/vnd.livy.statement-meta+json": {
       "execution_finish_time": "2024-12-19T15:35:57.5629978Z",
       "execution_start_time": "2024-12-19T15:35:57.2583687Z",
       "livy_statement_state": "available",
       "normalized_state": "finished",
       "parent_msg_id": "7a7f92cd-1b48-41fc-94e9-efcc642060b1",
       "queued_time": "2024-12-19T15:35:56.5713749Z",
       "session_id": "46a8c2d5-f07c-4de6-8ebe-4b99321bd0cf",
       "session_start_time": null,
       "spark_pool": null,
       "state": "finished",
       "statement_id": 14,
       "statement_ids": [
        14
       ]
      },
      "text/plain": [
       "StatementMeta(, 46a8c2d5-f07c-4de6-8ebe-4b99321bd0cf, 14, Finished, Available, Finished)"
      ]
     },
     "metadata": {},
     "output_type": "display_data"
    }
   ],
   "source": [
    "# Import Libraries\n",
    "from pyspark.sql import SparkSession\n",
    "from pyspark.sql.functions import col, sum as _sum, avg as _avg, count, when\n",
    "from pyspark.sql.functions import col, from_unixtime\n",
    "\n",
    "\n",
    "# Initialize Spark Session if need be. (Not necessary in Fabric)\n",
    "spark = SparkSession.builder \\\n",
    "    .appName(\"TaskLogAnalysis\") \\\n",
    "    .getOrCreate()"
   ]
  },
  {
   "cell_type": "markdown",
   "id": "c9ec23ce-4551-400a-a8c0-d84214bd30f8",
   "metadata": {
    "microsoft": {
     "language": "python",
     "language_group": "synapse_pyspark"
    },
    "nteract": {
     "transient": {
      "deleting": false
     }
    }
   },
   "source": [
    "### Read Task Logs from Lakehouse Filepath"
   ]
  },
  {
   "cell_type": "code",
   "execution_count": 13,
   "id": "6bccbaa9-ff63-4b3c-8805-f0ec0b64feed",
   "metadata": {
    "jupyter": {
     "outputs_hidden": false,
     "source_hidden": false
    },
    "microsoft": {
     "language": "python",
     "language_group": "synapse_pyspark"
    },
    "nteract": {
     "transient": {
      "deleting": false
     }
    }
   },
   "outputs": [
    {
     "data": {
      "application/vnd.livy.statement-meta+json": {
       "execution_finish_time": "2024-12-19T15:36:02.3722286Z",
       "execution_start_time": "2024-12-19T15:36:00.7125505Z",
       "livy_statement_state": "available",
       "normalized_state": "finished",
       "parent_msg_id": "c57f3337-8623-4d5b-b195-d4bab53c1621",
       "queued_time": "2024-12-19T15:36:00.1356493Z",
       "session_id": "46a8c2d5-f07c-4de6-8ebe-4b99321bd0cf",
       "session_start_time": null,
       "spark_pool": null,
       "state": "finished",
       "statement_id": 15,
       "statement_ids": [
        15
       ]
      },
      "text/plain": [
       "StatementMeta(, 46a8c2d5-f07c-4de6-8ebe-4b99321bd0cf, 15, Finished, Available, Finished)"
      ]
     },
     "metadata": {},
     "output_type": "display_data"
    },
    {
     "name": "stdout",
     "output_type": "stream",
     "text": [
      "+--------------------+--------------------+--------------------+-------------+-------------+-----------+--------+------------+\n",
      "|             task_id|             user_id|    task_description|   start_time|     end_time|     status|priority|hours_logged|\n",
      "+--------------------+--------------------+--------------------+-------------+-------------+-----------+--------+------------+\n",
      "|3052fe18-182b-4c4...|6b15895f-e655-467...|Explain girl succ...|1733218118000|1733342882000|     Failed|     Low|        7.17|\n",
      "|ed18a383-fd1f-490...|431602ef-42b0-4ed...|Adult it still fo...|1733195099000|1733336246000|  Completed|    High|        6.96|\n",
      "|33b19f47-76ea-40f...|070b2904-a255-42c...|Capital drug elec...|1733208970000|1733348187000|  Completed|  Medium|        9.41|\n",
      "|ce46acd6-1a6d-4fb...|03bf91ea-2bed-499...|Soon address fly ...|1733188024000|1733355327000|  Completed|     Low|        0.59|\n",
      "|905d1207-f632-4bb...|8b8952cb-f96f-449...|Future return thr...|1733266107000|1733328368000|In Progress|    High|        1.09|\n",
      "|9a81530b-dfef-4c8...|5255ede2-a39d-48d...|      Yard most cup.|1733227322000|1733278651000|     Failed|    High|        8.11|\n",
      "|884ae8b3-ff2b-43b...|b56e1c5a-5ec9-455...|He sell staff mis...|1733225073000|1733333832000|  Completed|  Medium|         9.3|\n",
      "|3812b285-3414-429...|728f5765-eac7-44f...|Case prepare well...|1733208682000|1733325661000|  Completed|  Medium|        3.08|\n",
      "|1a8644a8-c465-4c6...|440ab303-e10f-403...|Manager realize i...|1733259928000|1733289848000|  Completed|     Low|        1.58|\n",
      "|f0b9a30f-863c-4fe...|beca9049-22df-4e0...|Guess to record t...|1733238438000|1733299602000|In Progress|     Low|        1.74|\n",
      "|07ec1273-8cfc-4af...|94e141e3-c28f-48c...|Season between ow...|1733216842000|1733350892000|  Completed|  Medium|        3.35|\n",
      "|b2013919-854f-4ec...|9c96badc-89a0-4d7...|Attention evening...|1733187058000|1733333634000|In Progress|     Low|        5.25|\n",
      "|347e5158-c663-47f...|1b74d315-07ac-41b...|Husband inside gr...|1733245529000|1733289484000|In Progress|    High|       11.85|\n",
      "|4a4583bc-5298-453...|dfee03ae-8c32-452...|Do range some inc...|1733243974000|1733298822000|In Progress|    High|        1.91|\n",
      "|790049f2-939b-4df...|0dd4aa0a-6d9b-4a6...|Level claim other...|1733214730000|1733271847000|In Progress|    High|        9.48|\n",
      "|6aef4dd2-6f26-4af...|40afcbdf-7e3d-46e...|Energy south offi...|1733186555000|1733350834000|     Failed|  Medium|        8.59|\n",
      "|43cc9880-5705-4ee...|fe0a1b6c-d90d-46d...|Or around word th...|1733222905000|1733299069000|In Progress|     Low|         7.6|\n",
      "|839d9926-60bd-4a2...|9e6f1be3-aef8-48c...|Artist operation ...|1733191397000|1733336187000|In Progress|     Low|        6.23|\n",
      "|d609f600-e233-467...|7a19c32b-aa4c-491...|White important s...|1733268812000|1733341397000|In Progress|     Low|        6.99|\n",
      "|df468055-5bae-481...|e8f59eae-2a11-474...|Grow your directo...|1733187133000|1733300186000|     Failed|  Medium|        8.35|\n",
      "+--------------------+--------------------+--------------------+-------------+-------------+-----------+--------+------------+\n",
      "only showing top 20 rows\n",
      "\n"
     ]
    }
   ],
   "source": [
    "# Define the path to the Lakehouse file \n",
    "lakehouse_path = \"Files/task_logs/task_logs_2024\"  \n",
    "\n",
    "# Read the Parquet files into a DataFrame\n",
    "task_logs_df = spark.read.parquet(lakehouse_path)\n",
    "\n",
    "# Show the data\n",
    "task_logs_df.show()"
   ]
  },
  {
   "cell_type": "markdown",
   "id": "f2565e7f-d870-4604-92a8-364531b50eec",
   "metadata": {
    "microsoft": {
     "language": "python",
     "language_group": "synapse_pyspark"
    },
    "nteract": {
     "transient": {
      "deleting": false
     }
    }
   },
   "source": [
    "### Perform Transformations\n",
    "\n",
    "#### Transformations:\n",
    "1. Adjust Timestamp columns to Datetime columns\n",
    "2. Filter out failed tasks\n",
    "3. Aggregate total hours, average hours, and task count per day"
   ]
  },
  {
   "cell_type": "code",
   "execution_count": 15,
   "id": "63a23dbd-aa69-47cb-bf23-ea20fc92170a",
   "metadata": {
    "jupyter": {
     "outputs_hidden": false,
     "source_hidden": false
    },
    "microsoft": {
     "language": "python",
     "language_group": "synapse_pyspark"
    },
    "nteract": {
     "transient": {
      "deleting": false
     }
    }
   },
   "outputs": [
    {
     "data": {
      "application/vnd.livy.statement-meta+json": {
       "execution_finish_time": "2024-12-19T15:41:06.5685278Z",
       "execution_start_time": "2024-12-19T15:41:05.7242772Z",
       "livy_statement_state": "available",
       "normalized_state": "finished",
       "parent_msg_id": "83a77969-9087-49ac-8580-4c1c5dfda85e",
       "queued_time": "2024-12-19T15:41:05.2068317Z",
       "session_id": "46a8c2d5-f07c-4de6-8ebe-4b99321bd0cf",
       "session_start_time": null,
       "spark_pool": null,
       "state": "finished",
       "statement_id": 17,
       "statement_ids": [
        17
       ]
      },
      "text/plain": [
       "StatementMeta(, 46a8c2d5-f07c-4de6-8ebe-4b99321bd0cf, 17, Finished, Available, Finished)"
      ]
     },
     "metadata": {},
     "output_type": "display_data"
    },
    {
     "name": "stdout",
     "output_type": "stream",
     "text": [
      "+--------------------+--------------------+--------------------+-------------------+-------------------+-----------+--------+------------+\n",
      "|             task_id|             user_id|    task_description|         start_time|           end_time|     status|priority|hours_logged|\n",
      "+--------------------+--------------------+--------------------+-------------------+-------------------+-----------+--------+------------+\n",
      "|3052fe18-182b-4c4...|6b15895f-e655-467...|Explain girl succ...|2024-12-03 09:28:38|2024-12-04 20:08:02|     Failed|     Low|        7.17|\n",
      "|ed18a383-fd1f-490...|431602ef-42b0-4ed...|Adult it still fo...|2024-12-03 03:04:59|2024-12-04 18:17:26|  Completed|    High|        6.96|\n",
      "|33b19f47-76ea-40f...|070b2904-a255-42c...|Capital drug elec...|2024-12-03 06:56:10|2024-12-04 21:36:27|  Completed|  Medium|        9.41|\n",
      "|ce46acd6-1a6d-4fb...|03bf91ea-2bed-499...|Soon address fly ...|2024-12-03 01:07:04|2024-12-04 23:35:27|  Completed|     Low|        0.59|\n",
      "|905d1207-f632-4bb...|8b8952cb-f96f-449...|Future return thr...|2024-12-03 22:48:27|2024-12-04 16:06:08|In Progress|    High|        1.09|\n",
      "|9a81530b-dfef-4c8...|5255ede2-a39d-48d...|      Yard most cup.|2024-12-03 12:02:02|2024-12-04 02:17:31|     Failed|    High|        8.11|\n",
      "|884ae8b3-ff2b-43b...|b56e1c5a-5ec9-455...|He sell staff mis...|2024-12-03 11:24:33|2024-12-04 17:37:12|  Completed|  Medium|         9.3|\n",
      "|3812b285-3414-429...|728f5765-eac7-44f...|Case prepare well...|2024-12-03 06:51:22|2024-12-04 15:21:01|  Completed|  Medium|        3.08|\n",
      "|1a8644a8-c465-4c6...|440ab303-e10f-403...|Manager realize i...|2024-12-03 21:05:28|2024-12-04 05:24:08|  Completed|     Low|        1.58|\n",
      "|f0b9a30f-863c-4fe...|beca9049-22df-4e0...|Guess to record t...|2024-12-03 15:07:18|2024-12-04 08:06:42|In Progress|     Low|        1.74|\n",
      "|07ec1273-8cfc-4af...|94e141e3-c28f-48c...|Season between ow...|2024-12-03 09:07:22|2024-12-04 22:21:32|  Completed|  Medium|        3.35|\n",
      "|b2013919-854f-4ec...|9c96badc-89a0-4d7...|Attention evening...|2024-12-03 00:50:58|2024-12-04 17:33:54|In Progress|     Low|        5.25|\n",
      "|347e5158-c663-47f...|1b74d315-07ac-41b...|Husband inside gr...|2024-12-03 17:05:29|2024-12-04 05:18:04|In Progress|    High|       11.85|\n",
      "|4a4583bc-5298-453...|dfee03ae-8c32-452...|Do range some inc...|2024-12-03 16:39:34|2024-12-04 07:53:42|In Progress|    High|        1.91|\n",
      "|790049f2-939b-4df...|0dd4aa0a-6d9b-4a6...|Level claim other...|2024-12-03 08:32:10|2024-12-04 00:24:07|In Progress|    High|        9.48|\n",
      "|6aef4dd2-6f26-4af...|40afcbdf-7e3d-46e...|Energy south offi...|2024-12-03 00:42:35|2024-12-04 22:20:34|     Failed|  Medium|        8.59|\n",
      "|43cc9880-5705-4ee...|fe0a1b6c-d90d-46d...|Or around word th...|2024-12-03 10:48:25|2024-12-04 07:57:49|In Progress|     Low|         7.6|\n",
      "|839d9926-60bd-4a2...|9e6f1be3-aef8-48c...|Artist operation ...|2024-12-03 02:03:17|2024-12-04 18:16:27|In Progress|     Low|        6.23|\n",
      "|d609f600-e233-467...|7a19c32b-aa4c-491...|White important s...|2024-12-03 23:33:32|2024-12-04 19:43:17|In Progress|     Low|        6.99|\n",
      "|df468055-5bae-481...|e8f59eae-2a11-474...|Grow your directo...|2024-12-03 00:52:13|2024-12-04 08:16:26|     Failed|  Medium|        8.35|\n",
      "+--------------------+--------------------+--------------------+-------------------+-------------------+-----------+--------+------------+\n",
      "only showing top 20 rows\n",
      "\n"
     ]
    }
   ],
   "source": [
    "# 1. Convert Timestamp columns (start_time and end_time) into Datetime columns\n",
    "\n",
    "# 1A. start_time\n",
    "transformed_task_logs_df = task_logs_df.withColumn(\n",
    "    \"start_time\",\n",
    "    from_unixtime((col(\"start_time\") / 1000).cast(\"long\")).cast(\"timestamp\")\n",
    "    )\n",
    "\n",
    "\n",
    "# 1B. end_time\n",
    "transformed_task_logs_df = transformed_task_logs_df.withColumn(\n",
    "    \"end_time\",\n",
    "    from_unixtime((col(\"end_time\") / 1000).cast(\"long\")).cast(\"timestamp\")\n",
    "    )\n",
    "\n",
    "# View Result:\n",
    "transformed_task_logs_df.show()"
   ]
  },
  {
   "cell_type": "code",
   "execution_count": 16,
   "id": "5d0a804a-5e6d-4f2e-99be-c80200e3f79f",
   "metadata": {
    "jupyter": {
     "outputs_hidden": false,
     "source_hidden": false
    },
    "microsoft": {
     "language": "python",
     "language_group": "synapse_pyspark"
    },
    "nteract": {
     "transient": {
      "deleting": false
     }
    }
   },
   "outputs": [
    {
     "data": {
      "application/vnd.livy.statement-meta+json": {
       "execution_finish_time": "2024-12-19T15:43:00.1140035Z",
       "execution_start_time": "2024-12-19T15:42:59.0646786Z",
       "livy_statement_state": "available",
       "normalized_state": "finished",
       "parent_msg_id": "cbfbeea1-e385-4b2d-aec2-0545a1745dc5",
       "queued_time": "2024-12-19T15:42:58.4370906Z",
       "session_id": "46a8c2d5-f07c-4de6-8ebe-4b99321bd0cf",
       "session_start_time": null,
       "spark_pool": null,
       "state": "finished",
       "statement_id": 18,
       "statement_ids": [
        18
       ]
      },
      "text/plain": [
       "StatementMeta(, 46a8c2d5-f07c-4de6-8ebe-4b99321bd0cf, 18, Finished, Available, Finished)"
      ]
     },
     "metadata": {},
     "output_type": "display_data"
    },
    {
     "name": "stdout",
     "output_type": "stream",
     "text": [
      "+--------------------+--------------------+--------------------+-------------------+-------------------+---------+--------+------------+\n",
      "|             task_id|             user_id|    task_description|         start_time|           end_time|   status|priority|hours_logged|\n",
      "+--------------------+--------------------+--------------------+-------------------+-------------------+---------+--------+------------+\n",
      "|ed18a383-fd1f-490...|431602ef-42b0-4ed...|Adult it still fo...|2024-12-03 03:04:59|2024-12-04 18:17:26|Completed|    High|        6.96|\n",
      "|33b19f47-76ea-40f...|070b2904-a255-42c...|Capital drug elec...|2024-12-03 06:56:10|2024-12-04 21:36:27|Completed|  Medium|        9.41|\n",
      "|ce46acd6-1a6d-4fb...|03bf91ea-2bed-499...|Soon address fly ...|2024-12-03 01:07:04|2024-12-04 23:35:27|Completed|     Low|        0.59|\n",
      "|884ae8b3-ff2b-43b...|b56e1c5a-5ec9-455...|He sell staff mis...|2024-12-03 11:24:33|2024-12-04 17:37:12|Completed|  Medium|         9.3|\n",
      "|3812b285-3414-429...|728f5765-eac7-44f...|Case prepare well...|2024-12-03 06:51:22|2024-12-04 15:21:01|Completed|  Medium|        3.08|\n",
      "|1a8644a8-c465-4c6...|440ab303-e10f-403...|Manager realize i...|2024-12-03 21:05:28|2024-12-04 05:24:08|Completed|     Low|        1.58|\n",
      "|07ec1273-8cfc-4af...|94e141e3-c28f-48c...|Season between ow...|2024-12-03 09:07:22|2024-12-04 22:21:32|Completed|  Medium|        3.35|\n",
      "|293381c4-40e6-436...|16f9f7a6-1886-404...|Family outside fi...|2024-12-03 23:47:04|2024-12-04 18:05:57|Completed|    High|        2.31|\n",
      "|7909f999-7865-483...|2d513b3c-7aeb-4dd...|Face general talk...|2024-12-03 10:40:53|2024-12-04 13:52:50|Completed|  Medium|        1.42|\n",
      "|838caf7c-3ba6-47d...|606969bf-3ff2-45e...|Place meeting sta...|2024-12-03 15:02:16|2024-12-04 10:48:42|Completed|     Low|        4.62|\n",
      "|0ba8ba30-33c6-4af...|ece580c4-4fb3-480...|Tonight throw sto...|2024-12-03 15:45:42|2024-12-04 21:29:50|Completed|     Low|        0.57|\n",
      "|ecf00714-a96e-449...|a5457609-760c-414...|Enter page husban...|2024-12-03 10:22:31|2024-12-04 03:06:24|Completed|    High|       11.63|\n",
      "|7cc5e69d-5139-460...|f543d2a6-dfeb-4a3...|Land focus explai...|2024-12-03 13:57:34|2024-12-04 06:07:01|Completed|    High|       11.77|\n",
      "|25e621fd-5428-4be...|7c23906b-aa2c-46e...|Question he local...|2024-12-03 07:37:11|2024-12-04 04:52:15|Completed|     Low|        4.83|\n",
      "|02f31153-9ff3-403...|503cba4a-1a3c-447...|Before idea adult...|2024-12-03 00:40:38|2024-12-04 13:37:40|Completed|     Low|        6.16|\n",
      "|b18a9255-ec53-4a2...|50740e5b-2e4e-421...|Sport majority re...|2024-12-03 04:40:04|2024-12-04 16:43:50|Completed|  Medium|         6.1|\n",
      "|6ab6ba13-76e5-415...|a29e6037-e839-4bd...|Energy owner sout...|2024-12-03 16:17:03|2024-12-04 18:16:57|Completed|  Medium|        0.76|\n",
      "|1743ff60-d244-480...|e08de51c-b1a1-466...|Would senior week...|2024-12-03 14:56:26|2024-12-04 02:29:42|Completed|     Low|        4.76|\n",
      "|b08cd9d4-ff99-4ca...|49466b03-7d61-4c0...|Affect pattern re...|2024-12-03 00:37:18|2024-12-04 20:03:39|Completed|    High|         6.0|\n",
      "|fa5dbafe-77c8-4b2...|ea1c601a-dbf1-4b6...|Order form around...|2024-12-03 17:23:35|2024-12-04 10:42:27|Completed|  Medium|        3.43|\n",
      "+--------------------+--------------------+--------------------+-------------------+-------------------+---------+--------+------------+\n",
      "only showing top 20 rows\n",
      "\n"
     ]
    }
   ],
   "source": [
    "# 2. Filter out failed tasks\n",
    "completed_tasks_df = transformed_task_logs_df.filter(task_logs_df.status == \"Completed\")\n",
    "\n",
    "# View Result\n",
    "completed_tasks_df.show()\n"
   ]
  },
  {
   "cell_type": "code",
   "execution_count": 17,
   "id": "381d7178-7b9d-4508-8119-89903fa9c08b",
   "metadata": {
    "jupyter": {
     "outputs_hidden": false,
     "source_hidden": false
    },
    "microsoft": {
     "language": "python",
     "language_group": "synapse_pyspark"
    },
    "nteract": {
     "transient": {
      "deleting": false
     }
    }
   },
   "outputs": [
    {
     "data": {
      "application/vnd.livy.statement-meta+json": {
       "execution_finish_time": "2024-12-19T15:43:52.4755437Z",
       "execution_start_time": "2024-12-19T15:43:46.0531375Z",
       "livy_statement_state": "available",
       "normalized_state": "finished",
       "parent_msg_id": "966c6cd0-ef91-46ce-8a72-8d76e74889db",
       "queued_time": "2024-12-19T15:43:45.5457238Z",
       "session_id": "46a8c2d5-f07c-4de6-8ebe-4b99321bd0cf",
       "session_start_time": null,
       "spark_pool": null,
       "state": "finished",
       "statement_id": 19,
       "statement_ids": [
        19
       ]
      },
      "text/plain": [
       "StatementMeta(, 46a8c2d5-f07c-4de6-8ebe-4b99321bd0cf, 19, Finished, Available, Finished)"
      ]
     },
     "metadata": {},
     "output_type": "display_data"
    },
    {
     "name": "stdout",
     "output_type": "stream",
     "text": [
      "+--------+----------+------------------+------------------+----------+\n",
      "|priority| task_date|total_hours_logged|  avg_hours_logged|task_count|\n",
      "+--------+----------+------------------+------------------+----------+\n",
      "|     Low|2024-12-03| 692289.9699999993| 6.248950399422298|    110785|\n",
      "|    High|2024-12-03| 695464.5499999982|  6.25704729687175|    111149|\n",
      "|  Medium|2024-12-03| 697177.3500000004| 6.249965037786089|    111549|\n",
      "|     Low|2024-12-15|  692116.900000003| 6.235736809860198|    110992|\n",
      "|  Medium|2024-12-15| 698196.0900000087| 6.260893765076255|    111517|\n",
      "|    High|2024-12-15| 693512.0899999993| 6.253434053795721|    110901|\n",
      "|  Medium|2024-12-10| 696134.6200000098|6.2555342684867385|    111283|\n",
      "|     Low|2024-12-10| 692429.4900000069| 6.259136467589348|    110627|\n",
      "|    High|2024-12-10|  694436.470000008| 6.241957250591067|    111253|\n",
      "|  Medium|2024-12-13| 695082.5199999958| 6.229677708467733|    111576|\n",
      "+--------+----------+------------------+------------------+----------+\n",
      "only showing top 10 rows\n",
      "\n"
     ]
    }
   ],
   "source": [
    "# 3. Aggregate: Total and average hours logged, task count by priority and day\n",
    "aggregated_df = completed_tasks_df.groupBy(\n",
    "    col(\"priority\"), col(\"start_time\").cast(\"date\").alias(\"task_date\")\n",
    ").agg(\n",
    "    _sum(\"hours_logged\").alias(\"total_hours_logged\"),\n",
    "    _avg(\"hours_logged\").alias(\"avg_hours_logged\"),\n",
    "    count(\"task_id\").alias(\"task_count\")\n",
    ")\n",
    "\n",
    "# Show the aggregated results\n",
    "aggregated_df.show(10)"
   ]
  },
  {
   "cell_type": "markdown",
   "id": "c9a4ad77-2f34-41af-8e8f-7b80b2fc4955",
   "metadata": {
    "microsoft": {
     "language": "python",
     "language_group": "synapse_pyspark"
    },
    "nteract": {
     "transient": {
      "deleting": false
     }
    }
   },
   "source": [
    "### Save file as `CSV`"
   ]
  },
  {
   "cell_type": "code",
   "execution_count": 23,
   "id": "ffcc73d4-9c2d-4d15-8256-63de73631a5e",
   "metadata": {
    "jupyter": {
     "outputs_hidden": false,
     "source_hidden": false
    },
    "microsoft": {
     "language": "python",
     "language_group": "synapse_pyspark"
    },
    "nteract": {
     "transient": {
      "deleting": false
     }
    }
   },
   "outputs": [
    {
     "data": {
      "application/vnd.livy.statement-meta+json": {
       "execution_finish_time": "2024-12-19T15:59:48.0275784Z",
       "execution_start_time": "2024-12-19T15:59:42.7809381Z",
       "livy_statement_state": "available",
       "normalized_state": "finished",
       "parent_msg_id": "bd20dec2-9576-4bc9-b0e6-10912ff21153",
       "queued_time": "2024-12-19T15:59:42.0854784Z",
       "session_id": "46a8c2d5-f07c-4de6-8ebe-4b99321bd0cf",
       "session_start_time": null,
       "spark_pool": null,
       "state": "finished",
       "statement_id": 25,
       "statement_ids": [
        25
       ]
      },
      "text/plain": [
       "StatementMeta(, 46a8c2d5-f07c-4de6-8ebe-4b99321bd0cf, 25, Finished, Available, Finished)"
      ]
     },
     "metadata": {},
     "output_type": "display_data"
    }
   ],
   "source": [
    "# Define output path for the CSV\n",
    "output_csv_path = \"Files/processed_logs/processed_task_logs_2024/\"\n",
    "\n",
    "# Write aggregated results to a CSV file\n",
    "aggregated_df.coalesce(1).write.option(\"header\", \"true\").mode(\"overwrite\").csv(output_csv_path)       "
   ]
  },
  {
   "cell_type": "code",
   "execution_count": null,
   "id": "a3811638-609e-41a2-b89d-8a612ea2faef",
   "metadata": {
    "jupyter": {
     "outputs_hidden": false,
     "source_hidden": false
    },
    "microsoft": {
     "language": "python",
     "language_group": "synapse_pyspark"
    },
    "nteract": {
     "transient": {
      "deleting": false
     }
    }
   },
   "outputs": [],
   "source": []
  }
 ],
 "metadata": {
  "dependencies": {
   "lakehouse": {
    "default_lakehouse": "ab4af66c-15fa-4adb-bc62-1f4b1b537d3e",
    "default_lakehouse_name": "soralh",
    "default_lakehouse_workspace_id": "be13fd37-ba3c-4685-b508-2cfb29ce80f6"
   }
  },
  "kernel_info": {
   "name": "synapse_pyspark"
  },
  "kernelspec": {
   "display_name": "Synapse PySpark",
   "language": "Python",
   "name": "synapse_pyspark"
  },
  "language_info": {
   "name": "python"
  },
  "microsoft": {
   "language": "python",
   "language_group": "synapse_pyspark",
   "ms_spell_check": {
    "ms_spell_check_language": "en"
   }
  },
  "nteract": {
   "version": "nteract-front-end@1.0.0"
  },
  "spark_compute": {
   "compute_id": "/trident/default",
   "session_options": {
    "conf": {
     "spark.synapse.nbs.session.timeout": "1200000"
    }
   }
  }
 },
 "nbformat": 4,
 "nbformat_minor": 5
}
